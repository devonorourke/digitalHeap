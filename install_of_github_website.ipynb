{
 "cells": [
  {
   "cell_type": "markdown",
   "metadata": {},
   "source": [
    "# What are we doing?\n",
    "Going to install a website using existing Github account. We assume that the only thing you've completed to this point is installed a Github account. Instructions hereafter are for using my account, \"devonorourke\", at github.com/devonorourke.  \n",
    "\n",
    "## Installation of programs\n",
    "\n",
    "Note that if you have a Windows machine running, you'll have to see here for additional installation measures: https://jekyllrb.com/docs/windows/\n",
    "\n",
    "### Jekyll\n",
    "First, we installed all dependencies for Jekyll. See Jekyll's requirements at https://jekyllrb.com/docs/installation/#requirements.  \n",
    "\n",
    "I already had **gcc** and **make** installed. You can check with the following commands using the terminal:  \n",
    "\n",
    "`gcc -v`\n",
    "`ruby -v`  \n",
    "`make -v`  \n",
    "\n",
    "I needed to install **RubyGems** with the following command:  \n",
    "`gem update --system`  \n",
    "\n",
    "You can then install Jekyll and Bundler gems through RubyGems:  \n",
    "`gem install jekyll bundler`  "
   ]
  },
  {
   "cell_type": "markdown",
   "metadata": {},
   "source": [
    "## Executing jekyll commands:\n",
    "We're going to start a new site called **myblog** following the install instructions from Jekyll's site here: https://jekyllrb.com/docs/quickstart/  \n",
    "\n",
    "Create a new directory to store all the info:  \n",
    "`mkdir /Users/devonorourke/Documents/jekyllSites`\n",
    "\n",
    "Then move into that directory and execute the command to build the new site:  \n",
    "`cd jekyllSites1`  \n",
    "`jekyll new myblog`  \n",
    "\n",
    "Change into the new directory **./myblog/** and build the site on the preview server:  \n",
    "`cd myblog`  \n",
    "`bundle exec jekyll serve`  \n",
    "\n",
    "You should see a message stating that the server is running. Go to the server address by opening up a new web browser and pasting the url (probably **http://127.0.0.1:4000/**.  \n",
    "\n",
    "You can always detach from this server if you want to stop the process with:  \n",
    "`jekyll serve --detach`"
   ]
  },
  {
   "cell_type": "code",
   "execution_count": null,
   "metadata": {
    "collapsed": true
   },
   "outputs": [],
   "source": []
  }
 ],
 "metadata": {
  "kernelspec": {
   "display_name": "Python 3",
   "language": "python",
   "name": "python3"
  },
  "language_info": {
   "codemirror_mode": {
    "name": "ipython",
    "version": 3
   },
   "file_extension": ".py",
   "mimetype": "text/x-python",
   "name": "python",
   "nbconvert_exporter": "python",
   "pygments_lexer": "ipython3",
   "version": "3.5.1"
  }
 },
 "nbformat": 4,
 "nbformat_minor": 0
}
