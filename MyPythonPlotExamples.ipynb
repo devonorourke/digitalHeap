{
 "cells": [
  {
   "cell_type": "markdown",
   "metadata": {},
   "source": [
    "# My ever growing notebook of Python notes \n",
    "**Author**: Devon O'Rourke  \n",
    "**Written**: 14-March-2018  \n",
    "**Edited**:  \n",
    "**Access**: see github.com/devonorourke/digitalHeap (no promises that link still works)  \n",
    "**Motivation**: I wanted to learn some basic Python stuff when the power went out and I had sporadic interent access. Plus I wanted to use the Seaborn package to make cool plots.  \n"
   ]
  },
  {
   "cell_type": "markdown",
   "metadata": {},
   "source": [
    "## Example 1 - token example of what to import and how to generate simple plot\n",
    "\n",
    "See seaborn.pydata.org/tutorial for this example and many more details.  \n",
    "\n",
    "For older versions of iPython notebook, you might need to execute the following one-liner:\n",
    "```\n",
    "%matplotlib inline\n",
    "```"
   ]
  },
  {
   "cell_type": "code",
   "execution_count": 1,
   "metadata": {},
   "outputs": [],
   "source": [
    "import matplotlib.pyplot as plt\n",
    "import numpy as np\n",
    "from scipy import stats, integrate\n",
    "import pandas as pd\n",
    "import seaborn as sns\n",
    "sns.set(color_codes=True)"
   ]
  },
  {
   "cell_type": "code",
   "execution_count": 4,
   "metadata": {},
   "outputs": [
    {
     "data": {
      "image/png": "[encoded data removed]",
      "text/plain": [
       "<matplotlib.figure.Figure at 0x11496c6a0>"
      ]
     },
     "metadata": {},
     "output_type": "display_data"
    }
   ],
   "source": [
    "np.random.seed(sum(map(ord, \"distributions\")))\n",
    "x = np.random.normal(size = 100)\n",
    "sns.distplot(x);"
   ]
  },
  {
   "cell_type": "code",
   "execution_count": 5,
   "metadata": {},
   "outputs": [
    {
     "data": {
      "image/png": "[encoded data removed]",
      "text/plain": [
       "<matplotlib.figure.Figure at 0x114a44f60>"
      ]
     },
     "metadata": {},
     "output_type": "display_data"
    }
   ],
   "source": [
    "sns.distplot(x, kde=False, rug=True);"
   ]
  },
  {
   "cell_type": "markdown",
   "metadata": {},
   "source": [
    "## Example 2: importing a dataset from `.csv` file type\n",
    "See [this Data Carpentry tutorial](http://www.datacarpentry.org/python-ecology-lesson/01-starting-with-data/) for more helpful data manipulation practices - I used Chapters 01 and 02 to get started here with some basic data manipulation."
   ]
  },
  {
   "cell_type": "code",
   "execution_count": 12,
   "metadata": {},
   "outputs": [],
   "source": [
    "import pandas as pd\n",
    "import requests"
   ]
  },
  {
   "cell_type": "code",
   "execution_count": 14,
   "metadata": {},
   "outputs": [],
   "source": [
    "## import the data from a Github repo:\n",
    "url='https://raw.githubusercontent.com/devonorourke/guano/master/Perlut/data/Routput/master.csv'\n",
    "df=pd.read_csv(url)"
   ]
  },
  {
   "cell_type": "code",
   "execution_count": 17,
   "metadata": {},
   "outputs": [
    {
     "name": "stdout",
     "output_type": "stream",
     "text": [
      "Index(['SampleID', 'OTUid', 'TaxMethod', 'AlignScore', 'BOLDid',\n",
      "       'kingdom_name', 'phylum_name', 'class_name', 'order_name',\n",
      "       'family_name', 'genus_name', 'species_name', 'CountReads', 'BOLDalt',\n",
      "       'Species', 'AgeClass', 'Sex', 'Date', 'NestBox', 'uneID', 'Sequenced',\n",
      "       'onclick'],\n",
      "      dtype='object')\n"
     ]
    }
   ],
   "source": [
    "## what are the column (header) names?\n",
    "headers = df.dtypes.index\n",
    "print(headers)"
   ]
  },
  {
   "cell_type": "code",
   "execution_count": 26,
   "metadata": {},
   "outputs": [
    {
     "data": {
      "text/plain": [
       "pandas.core.frame.DataFrame"
      ]
     },
     "execution_count": 26,
     "metadata": {},
     "output_type": "execute_result"
    }
   ],
   "source": [
    "## what kind of class is this object (we assume it's a 'data.frame')?\n",
    "type(df)"
   ]
  },
  {
   "cell_type": "code",
   "execution_count": 29,
   "metadata": {},
   "outputs": [
    {
     "data": {
      "text/plain": [
       "SampleID       object\n",
       "OTUid          object\n",
       "TaxMethod      object\n",
       "AlignScore    float64\n",
       "BOLDid         object\n",
       "dtype: object"
      ]
     },
     "execution_count": 29,
     "metadata": {},
     "output_type": "execute_result"
    }
   ],
   "source": [
    "## how is each variable interpreted (ie. like 'str(data.frame)' in R...)?\n",
    "df.dtypes.head()"
   ]
  },
  {
   "cell_type": "code",
   "execution_count": 41,
   "metadata": {},
   "outputs": [
    {
     "data": {
      "text/html": [
       "<div>\n",
       "<style>\n",
       "    .dataframe thead tr:only-child th {\n",
       "        text-align: right;\n",
       "    }\n",
       "\n",
       "    .dataframe thead th {\n",
       "        text-align: left;\n",
       "    }\n",
       "\n",
       "    .dataframe tbody tr th {\n",
       "        vertical-align: top;\n",
       "    }\n",
       "</style>\n",
       "<table border=\"1\" class=\"dataframe\">\n",
       "  <thead>\n",
       "    <tr style=\"text-align: right;\">\n",
       "      <th></th>\n",
       "      <th>BOLDalt</th>\n",
       "    </tr>\n",
       "  </thead>\n",
       "  <tbody>\n",
       "    <tr>\n",
       "      <th>0</th>\n",
       "      <td>BOLD:ACD0295</td>\n",
       "    </tr>\n",
       "    <tr>\n",
       "      <th>1</th>\n",
       "      <td>BOLD:ABA8301</td>\n",
       "    </tr>\n",
       "    <tr>\n",
       "      <th>2</th>\n",
       "      <td>BOLD:ABA5203</td>\n",
       "    </tr>\n",
       "    <tr>\n",
       "      <th>3</th>\n",
       "      <td>BOLD:AAX9373</td>\n",
       "    </tr>\n",
       "    <tr>\n",
       "      <th>4</th>\n",
       "      <td>BOLD:AAA8153</td>\n",
       "    </tr>\n",
       "  </tbody>\n",
       "</table>\n",
       "</div>"
      ],
      "text/plain": [
       "        BOLDalt\n",
       "0  BOLD:ACD0295\n",
       "1  BOLD:ABA8301\n",
       "2  BOLD:ABA5203\n",
       "3  BOLD:AAX9373\n",
       "4  BOLD:AAA8153"
      ]
     },
     "execution_count": 41,
     "metadata": {},
     "output_type": "execute_result"
    }
   ],
   "source": [
    "## print all values from one field of data - (ex. all values from `BOLDalt' header):\n",
    "df_ex1 = df[['BOLDalt']]\n",
    "df_ex1.head()    # note the `.head()` addition reduces the length of the printed output"
   ]
  },
  {
   "cell_type": "code",
   "execution_count": 36,
   "metadata": {},
   "outputs": [
    {
     "data": {
      "text/plain": [
       "array([nan, 'Dicranomyia frontalis', 'Platycentropus radiatus',\n",
       "       'Depressaria radiella', 'Gluphisia septentrionis'], dtype=object)"
      ]
     },
     "execution_count": 36,
     "metadata": {},
     "output_type": "execute_result"
    }
   ],
   "source": [
    "## what are the unique values within a single field - (ex. unique 'species_name' values)?\n",
    "unique_species = pd.unique(df['species_name'])\n",
    "unique_species[:5]    # note the '[:5]' just prints the first five items in the 'unique_species' array; remove it if you want the full list"
   ]
  },
  {
   "cell_type": "code",
   "execution_count": 47,
   "metadata": {},
   "outputs": [
    {
     "data": {
      "text/html": [
       "<div>\n",
       "<style>\n",
       "    .dataframe thead tr:only-child th {\n",
       "        text-align: right;\n",
       "    }\n",
       "\n",
       "    .dataframe thead th {\n",
       "        text-align: left;\n",
       "    }\n",
       "\n",
       "    .dataframe tbody tr th {\n",
       "        vertical-align: top;\n",
       "    }\n",
       "</style>\n",
       "<table border=\"1\" class=\"dataframe\">\n",
       "  <thead>\n",
       "    <tr style=\"text-align: right;\">\n",
       "      <th></th>\n",
       "      <th>order_name</th>\n",
       "    </tr>\n",
       "  </thead>\n",
       "  <tbody>\n",
       "    <tr>\n",
       "      <th>0</th>\n",
       "      <td>Lepidoptera</td>\n",
       "    </tr>\n",
       "    <tr>\n",
       "      <th>1</th>\n",
       "      <td>Diptera</td>\n",
       "    </tr>\n",
       "    <tr>\n",
       "      <th>2</th>\n",
       "      <td>Diptera</td>\n",
       "    </tr>\n",
       "    <tr>\n",
       "      <th>3</th>\n",
       "      <td>Coleoptera</td>\n",
       "    </tr>\n",
       "    <tr>\n",
       "      <th>4</th>\n",
       "      <td>Trichoptera</td>\n",
       "    </tr>\n",
       "  </tbody>\n",
       "</table>\n",
       "</div>"
      ],
      "text/plain": [
       "    order_name\n",
       "0  Lepidoptera\n",
       "1      Diptera\n",
       "2      Diptera\n",
       "3   Coleoptera\n",
       "4  Trichoptera"
      ]
     },
     "execution_count": 47,
     "metadata": {},
     "output_type": "execute_result"
    }
   ],
   "source": [
    "## print a subset of values from one field of data - (ex. first 5 values from 'SampleID' header):\n",
    "first5order_name = df[['order_name']]\n",
    "first5order_name[:5]"
   ]
  },
  {
   "cell_type": "code",
   "execution_count": 48,
   "metadata": {},
   "outputs": [
    {
     "data": {
      "text/html": [
       "<div>\n",
       "<style>\n",
       "    .dataframe thead tr:only-child th {\n",
       "        text-align: right;\n",
       "    }\n",
       "\n",
       "    .dataframe thead th {\n",
       "        text-align: left;\n",
       "    }\n",
       "\n",
       "    .dataframe tbody tr th {\n",
       "        vertical-align: top;\n",
       "    }\n",
       "</style>\n",
       "<table border=\"1\" class=\"dataframe\">\n",
       "  <thead>\n",
       "    <tr style=\"text-align: right;\">\n",
       "      <th></th>\n",
       "      <th>SampleID</th>\n",
       "      <th>BOLDid</th>\n",
       "    </tr>\n",
       "  </thead>\n",
       "  <tbody>\n",
       "    <tr>\n",
       "      <th>0</th>\n",
       "      <td>une-01</td>\n",
       "      <td>BOLD:ACD0295.1</td>\n",
       "    </tr>\n",
       "    <tr>\n",
       "      <th>1</th>\n",
       "      <td>une-01</td>\n",
       "      <td>BOLD:ABA8301.5</td>\n",
       "    </tr>\n",
       "    <tr>\n",
       "      <th>2</th>\n",
       "      <td>une-01</td>\n",
       "      <td>BOLD:ABA5203.1</td>\n",
       "    </tr>\n",
       "    <tr>\n",
       "      <th>3</th>\n",
       "      <td>une-01</td>\n",
       "      <td>BOLD:AAX9373.1</td>\n",
       "    </tr>\n",
       "    <tr>\n",
       "      <th>4</th>\n",
       "      <td>une-01</td>\n",
       "      <td>BOLD:AAA8153.1</td>\n",
       "    </tr>\n",
       "    <tr>\n",
       "      <th>5</th>\n",
       "      <td>une-01</td>\n",
       "      <td>BOLD:AAH3190.1</td>\n",
       "    </tr>\n",
       "    <tr>\n",
       "      <th>6</th>\n",
       "      <td>une-01</td>\n",
       "      <td>BOLD:ABV4420.1</td>\n",
       "    </tr>\n",
       "    <tr>\n",
       "      <th>7</th>\n",
       "      <td>une-01</td>\n",
       "      <td>BOLD:AAB6253.1</td>\n",
       "    </tr>\n",
       "    <tr>\n",
       "      <th>8</th>\n",
       "      <td>une-02</td>\n",
       "      <td>BOLD:AAA2247.1</td>\n",
       "    </tr>\n",
       "    <tr>\n",
       "      <th>9</th>\n",
       "      <td>une-02</td>\n",
       "      <td>BOLD:AAA2482.2</td>\n",
       "    </tr>\n",
       "  </tbody>\n",
       "</table>\n",
       "</div>"
      ],
      "text/plain": [
       "  SampleID          BOLDid\n",
       "0   une-01  BOLD:ACD0295.1\n",
       "1   une-01  BOLD:ABA8301.5\n",
       "2   une-01  BOLD:ABA5203.1\n",
       "3   une-01  BOLD:AAX9373.1\n",
       "4   une-01  BOLD:AAA8153.1\n",
       "5   une-01  BOLD:AAH3190.1\n",
       "6   une-01  BOLD:ABV4420.1\n",
       "7   une-01  BOLD:AAB6253.1\n",
       "8   une-02  BOLD:AAA2247.1\n",
       "9   une-02  BOLD:AAA2482.2"
      ]
     },
     "execution_count": 48,
     "metadata": {},
     "output_type": "execute_result"
    }
   ],
   "source": [
    "## print a subset of two fields of data - (ex. the first 10 values from the `SampleID' AND 'BOLDid' headers):\n",
    "ex3 = df[['SampleID','BOLDid']]\n",
    "ex3[:10]"
   ]
  },
  {
   "cell_type": "code",
   "execution_count": null,
   "metadata": {},
   "outputs": [],
   "source": [
    "## print a subset of the data that matches a string - (ex. all rows with 'CountReads' > 500):"
   ]
  },
  {
   "cell_type": "code",
   "execution_count": 49,
   "metadata": {},
   "outputs": [
    {
     "data": {
      "text/html": [
       "<div>\n",
       "<style>\n",
       "    .dataframe thead tr:only-child th {\n",
       "        text-align: right;\n",
       "    }\n",
       "\n",
       "    .dataframe thead th {\n",
       "        text-align: left;\n",
       "    }\n",
       "\n",
       "    .dataframe tbody tr th {\n",
       "        vertical-align: top;\n",
       "    }\n",
       "</style>\n",
       "<table border=\"1\" class=\"dataframe\">\n",
       "  <thead>\n",
       "    <tr style=\"text-align: right;\">\n",
       "      <th></th>\n",
       "      <th>SampleID</th>\n",
       "      <th>OTUid</th>\n",
       "      <th>TaxMethod</th>\n",
       "      <th>AlignScore</th>\n",
       "      <th>BOLDid</th>\n",
       "      <th>kingdom_name</th>\n",
       "      <th>phylum_name</th>\n",
       "      <th>class_name</th>\n",
       "      <th>order_name</th>\n",
       "      <th>family_name</th>\n",
       "      <th>...</th>\n",
       "      <th>CountReads</th>\n",
       "      <th>BOLDalt</th>\n",
       "      <th>Species</th>\n",
       "      <th>AgeClass</th>\n",
       "      <th>Sex</th>\n",
       "      <th>Date</th>\n",
       "      <th>NestBox</th>\n",
       "      <th>uneID</th>\n",
       "      <th>Sequenced</th>\n",
       "      <th>onclick</th>\n",
       "    </tr>\n",
       "  </thead>\n",
       "  <tbody>\n",
       "    <tr>\n",
       "      <th>8</th>\n",
       "      <td>une-02</td>\n",
       "      <td>OTU46_suspect_mock_chimera</td>\n",
       "      <td>GS</td>\n",
       "      <td>99.4</td>\n",
       "      <td>BOLD:AAA2247.1</td>\n",
       "      <td>Animalia</td>\n",
       "      <td>Arthropoda</td>\n",
       "      <td>Insecta</td>\n",
       "      <td>Lepidoptera</td>\n",
       "      <td>Notodontidae</td>\n",
       "      <td>...</td>\n",
       "      <td>13516</td>\n",
       "      <td>BOLD:AAA2247</td>\n",
       "      <td>TRSW</td>\n",
       "      <td>chicks</td>\n",
       "      <td>U</td>\n",
       "      <td>42917</td>\n",
       "      <td>sokokis_7</td>\n",
       "      <td>2</td>\n",
       "      <td>Y</td>\n",
       "      <td>http://v4.boldsystems.org/index.php/Public_Bar...</td>\n",
       "    </tr>\n",
       "    <tr>\n",
       "      <th>9</th>\n",
       "      <td>une-02</td>\n",
       "      <td>OTU51_suspect_mock_chimera</td>\n",
       "      <td>GS</td>\n",
       "      <td>100.0</td>\n",
       "      <td>BOLD:AAA2482.2</td>\n",
       "      <td>Animalia</td>\n",
       "      <td>Arthropoda</td>\n",
       "      <td>Insecta</td>\n",
       "      <td>Lepidoptera</td>\n",
       "      <td>Noctuidae</td>\n",
       "      <td>...</td>\n",
       "      <td>5711</td>\n",
       "      <td>BOLD:AAA2482</td>\n",
       "      <td>TRSW</td>\n",
       "      <td>chicks</td>\n",
       "      <td>U</td>\n",
       "      <td>42917</td>\n",
       "      <td>sokokis_7</td>\n",
       "      <td>2</td>\n",
       "      <td>Y</td>\n",
       "      <td>http://v4.boldsystems.org/index.php/Public_Bar...</td>\n",
       "    </tr>\n",
       "    <tr>\n",
       "      <th>11</th>\n",
       "      <td>une-02</td>\n",
       "      <td>OTU65_suspect_mock_chimera</td>\n",
       "      <td>GS</td>\n",
       "      <td>100.0</td>\n",
       "      <td>BOLD:AAB4783.1</td>\n",
       "      <td>Animalia</td>\n",
       "      <td>Arthropoda</td>\n",
       "      <td>Insecta</td>\n",
       "      <td>Lepidoptera</td>\n",
       "      <td>Geometridae</td>\n",
       "      <td>...</td>\n",
       "      <td>3343</td>\n",
       "      <td>BOLD:AAB4783</td>\n",
       "      <td>TRSW</td>\n",
       "      <td>chicks</td>\n",
       "      <td>U</td>\n",
       "      <td>42917</td>\n",
       "      <td>sokokis_7</td>\n",
       "      <td>2</td>\n",
       "      <td>Y</td>\n",
       "      <td>http://v4.boldsystems.org/index.php/Public_Bar...</td>\n",
       "    </tr>\n",
       "    <tr>\n",
       "      <th>13</th>\n",
       "      <td>une-02</td>\n",
       "      <td>OTU159_suspect_mock_chimera</td>\n",
       "      <td>GS</td>\n",
       "      <td>100.0</td>\n",
       "      <td>BOLD:AAA2052.4</td>\n",
       "      <td>Animalia</td>\n",
       "      <td>Arthropoda</td>\n",
       "      <td>Insecta</td>\n",
       "      <td>Lepidoptera</td>\n",
       "      <td>Erebidae</td>\n",
       "      <td>...</td>\n",
       "      <td>694</td>\n",
       "      <td>BOLD:AAA2052</td>\n",
       "      <td>TRSW</td>\n",
       "      <td>chicks</td>\n",
       "      <td>U</td>\n",
       "      <td>42917</td>\n",
       "      <td>sokokis_7</td>\n",
       "      <td>2</td>\n",
       "      <td>Y</td>\n",
       "      <td>http://v4.boldsystems.org/index.php/Public_Bar...</td>\n",
       "    </tr>\n",
       "    <tr>\n",
       "      <th>14</th>\n",
       "      <td>une-02</td>\n",
       "      <td>OTU195_suspect_mock_chimera</td>\n",
       "      <td>GS</td>\n",
       "      <td>100.0</td>\n",
       "      <td>BOLD:AAJ9298.2</td>\n",
       "      <td>Animalia</td>\n",
       "      <td>Arthropoda</td>\n",
       "      <td>Insecta</td>\n",
       "      <td>Lepidoptera</td>\n",
       "      <td>Geometridae</td>\n",
       "      <td>...</td>\n",
       "      <td>550</td>\n",
       "      <td>BOLD:AAJ9298</td>\n",
       "      <td>TRSW</td>\n",
       "      <td>chicks</td>\n",
       "      <td>U</td>\n",
       "      <td>42917</td>\n",
       "      <td>sokokis_7</td>\n",
       "      <td>2</td>\n",
       "      <td>Y</td>\n",
       "      <td>http://v4.boldsystems.org/index.php/Public_Bar...</td>\n",
       "    </tr>\n",
       "  </tbody>\n",
       "</table>\n",
       "<p>5 rows × 22 columns</p>\n",
       "</div>"
      ],
      "text/plain": [
       "   SampleID                        OTUid TaxMethod  AlignScore  \\\n",
       "8    une-02   OTU46_suspect_mock_chimera        GS        99.4   \n",
       "9    une-02   OTU51_suspect_mock_chimera        GS       100.0   \n",
       "11   une-02   OTU65_suspect_mock_chimera        GS       100.0   \n",
       "13   une-02  OTU159_suspect_mock_chimera        GS       100.0   \n",
       "14   une-02  OTU195_suspect_mock_chimera        GS       100.0   \n",
       "\n",
       "            BOLDid kingdom_name phylum_name class_name   order_name  \\\n",
       "8   BOLD:AAA2247.1     Animalia  Arthropoda    Insecta  Lepidoptera   \n",
       "9   BOLD:AAA2482.2     Animalia  Arthropoda    Insecta  Lepidoptera   \n",
       "11  BOLD:AAB4783.1     Animalia  Arthropoda    Insecta  Lepidoptera   \n",
       "13  BOLD:AAA2052.4     Animalia  Arthropoda    Insecta  Lepidoptera   \n",
       "14  BOLD:AAJ9298.2     Animalia  Arthropoda    Insecta  Lepidoptera   \n",
       "\n",
       "     family_name                        ...                          \\\n",
       "8   Notodontidae                        ...                           \n",
       "9      Noctuidae                        ...                           \n",
       "11   Geometridae                        ...                           \n",
       "13      Erebidae                        ...                           \n",
       "14   Geometridae                        ...                           \n",
       "\n",
       "   CountReads       BOLDalt  Species AgeClass Sex   Date    NestBox  uneID  \\\n",
       "8       13516  BOLD:AAA2247     TRSW   chicks   U  42917  sokokis_7      2   \n",
       "9        5711  BOLD:AAA2482     TRSW   chicks   U  42917  sokokis_7      2   \n",
       "11       3343  BOLD:AAB4783     TRSW   chicks   U  42917  sokokis_7      2   \n",
       "13        694  BOLD:AAA2052     TRSW   chicks   U  42917  sokokis_7      2   \n",
       "14        550  BOLD:AAJ9298     TRSW   chicks   U  42917  sokokis_7      2   \n",
       "\n",
       "   Sequenced                                            onclick  \n",
       "8          Y  http://v4.boldsystems.org/index.php/Public_Bar...  \n",
       "9          Y  http://v4.boldsystems.org/index.php/Public_Bar...  \n",
       "11         Y  http://v4.boldsystems.org/index.php/Public_Bar...  \n",
       "13         Y  http://v4.boldsystems.org/index.php/Public_Bar...  \n",
       "14         Y  http://v4.boldsystems.org/index.php/Public_Bar...  \n",
       "\n",
       "[5 rows x 22 columns]"
      ]
     },
     "execution_count": 49,
     "metadata": {},
     "output_type": "execute_result"
    }
   ],
   "source": [
    "ex4 = df[df.CountReads > 500]\n",
    "ex4.head()"
   ]
  },
  {
   "cell_type": "code",
   "execution_count": 56,
   "metadata": {},
   "outputs": [
    {
     "data": {
      "text/html": [
       "<div>\n",
       "<style>\n",
       "    .dataframe thead tr:only-child th {\n",
       "        text-align: right;\n",
       "    }\n",
       "\n",
       "    .dataframe thead th {\n",
       "        text-align: left;\n",
       "    }\n",
       "\n",
       "    .dataframe tbody tr th {\n",
       "        vertical-align: top;\n",
       "    }\n",
       "</style>\n",
       "<table border=\"1\" class=\"dataframe\">\n",
       "  <thead>\n",
       "    <tr style=\"text-align: right;\">\n",
       "      <th></th>\n",
       "      <th>SampleID</th>\n",
       "      <th>OTUid</th>\n",
       "      <th>TaxMethod</th>\n",
       "      <th>AlignScore</th>\n",
       "      <th>BOLDid</th>\n",
       "      <th>kingdom_name</th>\n",
       "      <th>phylum_name</th>\n",
       "      <th>class_name</th>\n",
       "      <th>order_name</th>\n",
       "      <th>family_name</th>\n",
       "      <th>...</th>\n",
       "      <th>CountReads</th>\n",
       "      <th>BOLDalt</th>\n",
       "      <th>Species</th>\n",
       "      <th>AgeClass</th>\n",
       "      <th>Sex</th>\n",
       "      <th>Date</th>\n",
       "      <th>NestBox</th>\n",
       "      <th>uneID</th>\n",
       "      <th>Sequenced</th>\n",
       "      <th>onclick</th>\n",
       "    </tr>\n",
       "  </thead>\n",
       "  <tbody>\n",
       "    <tr>\n",
       "      <th>9</th>\n",
       "      <td>une-02</td>\n",
       "      <td>OTU51_suspect_mock_chimera</td>\n",
       "      <td>GS</td>\n",
       "      <td>100.0</td>\n",
       "      <td>BOLD:AAA2482.2</td>\n",
       "      <td>Animalia</td>\n",
       "      <td>Arthropoda</td>\n",
       "      <td>Insecta</td>\n",
       "      <td>Lepidoptera</td>\n",
       "      <td>Noctuidae</td>\n",
       "      <td>...</td>\n",
       "      <td>5711</td>\n",
       "      <td>BOLD:AAA2482</td>\n",
       "      <td>TRSW</td>\n",
       "      <td>chicks</td>\n",
       "      <td>U</td>\n",
       "      <td>42917</td>\n",
       "      <td>sokokis_7</td>\n",
       "      <td>2</td>\n",
       "      <td>Y</td>\n",
       "      <td>http://v4.boldsystems.org/index.php/Public_Bar...</td>\n",
       "    </tr>\n",
       "    <tr>\n",
       "      <th>11</th>\n",
       "      <td>une-02</td>\n",
       "      <td>OTU65_suspect_mock_chimera</td>\n",
       "      <td>GS</td>\n",
       "      <td>100.0</td>\n",
       "      <td>BOLD:AAB4783.1</td>\n",
       "      <td>Animalia</td>\n",
       "      <td>Arthropoda</td>\n",
       "      <td>Insecta</td>\n",
       "      <td>Lepidoptera</td>\n",
       "      <td>Geometridae</td>\n",
       "      <td>...</td>\n",
       "      <td>3343</td>\n",
       "      <td>BOLD:AAB4783</td>\n",
       "      <td>TRSW</td>\n",
       "      <td>chicks</td>\n",
       "      <td>U</td>\n",
       "      <td>42917</td>\n",
       "      <td>sokokis_7</td>\n",
       "      <td>2</td>\n",
       "      <td>Y</td>\n",
       "      <td>http://v4.boldsystems.org/index.php/Public_Bar...</td>\n",
       "    </tr>\n",
       "    <tr>\n",
       "      <th>13</th>\n",
       "      <td>une-02</td>\n",
       "      <td>OTU159_suspect_mock_chimera</td>\n",
       "      <td>GS</td>\n",
       "      <td>100.0</td>\n",
       "      <td>BOLD:AAA2052.4</td>\n",
       "      <td>Animalia</td>\n",
       "      <td>Arthropoda</td>\n",
       "      <td>Insecta</td>\n",
       "      <td>Lepidoptera</td>\n",
       "      <td>Erebidae</td>\n",
       "      <td>...</td>\n",
       "      <td>694</td>\n",
       "      <td>BOLD:AAA2052</td>\n",
       "      <td>TRSW</td>\n",
       "      <td>chicks</td>\n",
       "      <td>U</td>\n",
       "      <td>42917</td>\n",
       "      <td>sokokis_7</td>\n",
       "      <td>2</td>\n",
       "      <td>Y</td>\n",
       "      <td>http://v4.boldsystems.org/index.php/Public_Bar...</td>\n",
       "    </tr>\n",
       "    <tr>\n",
       "      <th>14</th>\n",
       "      <td>une-02</td>\n",
       "      <td>OTU195_suspect_mock_chimera</td>\n",
       "      <td>GS</td>\n",
       "      <td>100.0</td>\n",
       "      <td>BOLD:AAJ9298.2</td>\n",
       "      <td>Animalia</td>\n",
       "      <td>Arthropoda</td>\n",
       "      <td>Insecta</td>\n",
       "      <td>Lepidoptera</td>\n",
       "      <td>Geometridae</td>\n",
       "      <td>...</td>\n",
       "      <td>550</td>\n",
       "      <td>BOLD:AAJ9298</td>\n",
       "      <td>TRSW</td>\n",
       "      <td>chicks</td>\n",
       "      <td>U</td>\n",
       "      <td>42917</td>\n",
       "      <td>sokokis_7</td>\n",
       "      <td>2</td>\n",
       "      <td>Y</td>\n",
       "      <td>http://v4.boldsystems.org/index.php/Public_Bar...</td>\n",
       "    </tr>\n",
       "  </tbody>\n",
       "</table>\n",
       "<p>4 rows × 22 columns</p>\n",
       "</div>"
      ],
      "text/plain": [
       "   SampleID                        OTUid TaxMethod  AlignScore  \\\n",
       "9    une-02   OTU51_suspect_mock_chimera        GS       100.0   \n",
       "11   une-02   OTU65_suspect_mock_chimera        GS       100.0   \n",
       "13   une-02  OTU159_suspect_mock_chimera        GS       100.0   \n",
       "14   une-02  OTU195_suspect_mock_chimera        GS       100.0   \n",
       "\n",
       "            BOLDid kingdom_name phylum_name class_name   order_name  \\\n",
       "9   BOLD:AAA2482.2     Animalia  Arthropoda    Insecta  Lepidoptera   \n",
       "11  BOLD:AAB4783.1     Animalia  Arthropoda    Insecta  Lepidoptera   \n",
       "13  BOLD:AAA2052.4     Animalia  Arthropoda    Insecta  Lepidoptera   \n",
       "14  BOLD:AAJ9298.2     Animalia  Arthropoda    Insecta  Lepidoptera   \n",
       "\n",
       "    family_name                        ...                         CountReads  \\\n",
       "9     Noctuidae                        ...                               5711   \n",
       "11  Geometridae                        ...                               3343   \n",
       "13     Erebidae                        ...                                694   \n",
       "14  Geometridae                        ...                                550   \n",
       "\n",
       "         BOLDalt  Species AgeClass Sex   Date    NestBox  uneID Sequenced  \\\n",
       "9   BOLD:AAA2482     TRSW   chicks   U  42917  sokokis_7      2         Y   \n",
       "11  BOLD:AAB4783     TRSW   chicks   U  42917  sokokis_7      2         Y   \n",
       "13  BOLD:AAA2052     TRSW   chicks   U  42917  sokokis_7      2         Y   \n",
       "14  BOLD:AAJ9298     TRSW   chicks   U  42917  sokokis_7      2         Y   \n",
       "\n",
       "                                              onclick  \n",
       "9   http://v4.boldsystems.org/index.php/Public_Bar...  \n",
       "11  http://v4.boldsystems.org/index.php/Public_Bar...  \n",
       "13  http://v4.boldsystems.org/index.php/Public_Bar...  \n",
       "14  http://v4.boldsystems.org/index.php/Public_Bar...  \n",
       "\n",
       "[4 rows x 22 columns]"
      ]
     },
     "execution_count": 56,
     "metadata": {},
     "output_type": "execute_result"
    }
   ],
   "source": [
    "## print a subset of data that matches multiple conditions (ex. all rows with 'CountReads' > 500 AND 'SampleID' == une-03)\n",
    "ex5 = df[(df.CountReads > 500) & (df.SampleID == \"une-02\")]\n",
    "ex5.tail(4)    # note that by inserting a value within the 'tail()' parentheses we define the number of rows returned in the print statement"
   ]
  },
  {
   "cell_type": "code",
   "execution_count": 57,
   "metadata": {},
   "outputs": [
    {
     "data": {
      "text/plain": [
       "5"
      ]
     },
     "execution_count": 57,
     "metadata": {},
     "output_type": "execute_result"
    }
   ],
   "source": [
    "## how many rows are in a given data.frame object?\n",
    "len(ex5)"
   ]
  },
  {
   "cell_type": "markdown",
   "metadata": {},
   "source": [
    "## And finally... the plotting of that `.csv` file!\n",
    "\n",
    "Let's start by making a histogram, plotting the distribution of the number of reads per observation (ie. number of sequences of a given OTU per sample)."
   ]
  },
  {
   "cell_type": "code",
   "execution_count": 66,
   "metadata": {},
   "outputs": [],
   "source": [
    "## import modules\n",
    "import matplotlib.pyplot as plt\n",
    "import numpy as np\n",
    "import pandas as pd\n",
    "import seaborn as sns\n",
    "from matplotlib import colors\n",
    "sns.set(color_codes=True)"
   ]
  },
  {
   "cell_type": "code",
   "execution_count": null,
   "metadata": {},
   "outputs": [],
   "source": [
    "## import data\n",
    "url='https://raw.githubusercontent.com/devonorourke/guano/master/Perlut/data/Routput/master.csv'\n",
    "df=pd.read_csv(url)"
   ]
  },
  {
   "cell_type": "code",
   "execution_count": 99,
   "metadata": {},
   "outputs": [
    {
     "data": {
      "image/png": "[encoded data removed]",
      "text/plain": [
       "<matplotlib.figure.Figure at 0x1170e9e80>"
      ]
     },
     "metadata": {},
     "output_type": "display_data"
    }
   ],
   "source": [
    "x = df.CountReads\n",
    "#basic one:\n",
    "sns.distplot(x, kde=False);\n",
    "\n",
    "## Notice the number of bins seems off... could set those differently, as shown in next plot"
   ]
  },
  {
   "cell_type": "code",
   "execution_count": 105,
   "metadata": {},
   "outputs": [
    {
     "data": {
      "text/plain": [
       "(0, 10000)"
      ]
     },
     "execution_count": 105,
     "metadata": {},
     "output_type": "execute_result"
    },
    {
     "data": {
      "image/png": "[encoded data removed]",
      "text/plain": [
       "<matplotlib.figure.Figure at 0x118668710>"
      ]
     },
     "metadata": {},
     "output_type": "display_data"
    }
   ],
   "source": [
    "#spiffy one\n",
    "sns.set_style(\"whitegrid\")\n",
    "sns.distplot(x, kde=False, rug=True,\n",
    "             color='#3f317d',\n",
    "            bins = 100);\n",
    "\n",
    "plt.xlim(0, 10000)\n",
    "\n",
    "## We've set the axis to reduce the plotting area, and defined the number of bins to be 100; however this isn't really helpful\n",
    "## what is needed is to subset the data, then define the number of bins, and eliminate the need for scaling the x-axis range"
   ]
  },
  {
   "cell_type": "code",
   "execution_count": 112,
   "metadata": {},
   "outputs": [
    {
     "data": {
      "image/png": "[encoded data removed]",
      "text/plain": [
       "<matplotlib.figure.Figure at 0x117a275f8>"
      ]
     },
     "metadata": {},
     "output_type": "display_data"
    }
   ],
   "source": [
    "subdf = df[df.CountReads < 10000]\n",
    "x2 = subdf.CountReads\n",
    "\n",
    "sns.distplot(x2, kde=False, rug=True,\n",
    "             color='#3fadaf',\n",
    "            bins = 100);\n",
    "\n",
    "## clearly, all our data is squished to the first 100 units (read counts); not a very helpful histogram!"
   ]
  },
  {
   "cell_type": "code",
   "execution_count": 110,
   "metadata": {},
   "outputs": [],
   "source": []
  },
  {
   "cell_type": "code",
   "execution_count": null,
   "metadata": {},
   "outputs": [],
   "source": []
  }
 ],
 "metadata": {
  "kernelspec": {
   "display_name": "Python 3",
   "language": "python",
   "name": "python3"
  },
  "language_info": {
   "codemirror_mode": {
    "name": "ipython",
    "version": 3
   },
   "file_extension": ".py",
   "mimetype": "text/x-python",
   "name": "python",
   "nbconvert_exporter": "python",
   "pygments_lexer": "ipython3",
   "version": "3.6.3"
  }
 },
 "nbformat": 4,
 "nbformat_minor": 2
}
